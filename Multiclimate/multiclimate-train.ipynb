{
 "cells": [
  {
   "cell_type": "code",
   "execution_count": 1,
   "id": "a430efe0-03bc-4e15-b290-97014ba3707f",
   "metadata": {},
   "outputs": [
    {
     "name": "stdout",
     "output_type": "stream",
     "text": [
      "Cloning into 'MultiClimate'...\n",
      "remote: Enumerating objects: 4707, done.\u001b[K\n",
      "remote: Counting objects: 100% (96/96), done.\u001b[K\n",
      "remote: Compressing objects: 100% (86/86), done.\u001b[K\n",
      "remote: Total 4707 (delta 51), reused 21 (delta 10), pack-reused 4611 (from 1)\u001b[K\n",
      "Receiving objects: 100% (4707/4707), 1.74 GiB | 40.34 MiB/s, done.\n",
      "Resolving deltas: 100% (89/89), done.\n",
      "Updating files: 100% (4493/4493), done.\n"
     ]
    }
   ],
   "source": [
    "!git clone https://github.com/werywjw/MultiClimate"
   ]
  },
  {
   "cell_type": "code",
   "execution_count": 6,
   "id": "882221f8-7504-44dc-88c8-6cf1fec9ab9d",
   "metadata": {},
   "outputs": [
    {
     "name": "stdout",
     "output_type": "stream",
     "text": [
      "\u001b[33mWARNING: Running pip as the 'root' user can result in broken permissions and conflicting behaviour with the system package manager. It is recommended to use a virtual environment instead: https://pip.pypa.io/warnings/venv\u001b[0m\u001b[33m\n",
      "\u001b[0m\n",
      "\u001b[1m[\u001b[0m\u001b[34;49mnotice\u001b[0m\u001b[1;39;49m]\u001b[0m\u001b[39;49m A new release of pip is available: \u001b[0m\u001b[31;49m23.3.1\u001b[0m\u001b[39;49m -> \u001b[0m\u001b[32;49m25.0.1\u001b[0m\n",
      "\u001b[1m[\u001b[0m\u001b[34;49mnotice\u001b[0m\u001b[1;39;49m]\u001b[0m\u001b[39;49m To update, run: \u001b[0m\u001b[32;49mpython -m pip install --upgrade pip\u001b[0m\n"
     ]
    }
   ],
   "source": [
    "!pip install pandas numpy torch tqdm scikit-learn torchvision matplotlib transformers yacs -q"
   ]
  },
  {
   "cell_type": "code",
   "execution_count": 1,
   "id": "86a539d9-e3cc-4e9f-bfd7-8fee939fac6b",
   "metadata": {},
   "outputs": [
    {
     "name": "stdout",
     "output_type": "stream",
     "text": [
      "Using device: cuda\n"
     ]
    }
   ],
   "source": [
    "from cc_dataset import make_df, Dataset, process_dataset, collate_fn"
   ]
  },
  {
   "cell_type": "code",
   "execution_count": 3,
   "id": "e8d247e6-f379-4f56-89a6-82007dcef43a",
   "metadata": {},
   "outputs": [],
   "source": [
    "df = make_df()"
   ]
  },
  {
   "cell_type": "code",
   "execution_count": null,
   "id": "2c2aa6eb-8991-4b68-a4e3-a402c4b1f990",
   "metadata": {},
   "outputs": [],
   "source": [
    "df.to_csv('dataset.csv')\n",
    "fdf = process_dataset('dataset.csv')"
   ]
  },
  {
   "cell_type": "code",
   "execution_count": 2,
   "id": "b4563e99-90ef-483e-86df-346fc7e1cc15",
   "metadata": {},
   "outputs": [],
   "source": [
    "train_dataset = Dataset('features.pkl', 'label', 'train')\n",
    "test_dataset = Dataset('features.pkl', 'label', 'test')\n",
    "val_dataset = Dataset('features.pkl', 'label', 'val')"
   ]
  },
  {
   "cell_type": "code",
   "execution_count": 3,
   "id": "a20817e8-4e6b-40d6-a1b6-ff23d3110c7e",
   "metadata": {},
   "outputs": [],
   "source": [
    "from model import Final\n",
    "from trainer import Trainer\n",
    "from torch.utils.data import DataLoader\n",
    "\n",
    "batch_size = 8\n",
    "lr = 2e-5\n",
    "\n",
    "train_dataloader = DataLoader(train_dataset, batch_size=batch_size, shuffle=True, collate_fn=collate_fn)\n",
    "test_dataloader = DataLoader(test_dataset, batch_size=batch_size, shuffle=False, collate_fn=collate_fn)\n",
    "val_dataloader = DataLoader(val_dataset, batch_size=batch_size, shuffle=False, collate_fn=collate_fn)\n",
    "\n",
    "model = Final()\n",
    "trainer = Trainer(model, train_dataloader, val_dataloader, test_dataloader, lr=lr)"
   ]
  },
  {
   "cell_type": "code",
   "execution_count": null,
   "id": "f3b5f5e6-a879-45f9-a9da-29f77b657373",
   "metadata": {},
   "outputs": [
    {
     "name": "stderr",
     "output_type": "stream",
     "text": [
      "Epoch 1/100: 100%|██████████| 422/422 [01:35<00:00,  4.42it/s, loss=1.2958]\n"
     ]
    },
    {
     "name": "stdout",
     "output_type": "stream",
     "text": [
      "\n",
      "Training Metrics:\n",
      "--------------------------------------------------\n",
      "Epoch: 0\n",
      "Train Loss: 1.0738\n",
      "Validation Loss: 1.0529\n",
      "Accuracy: 0.4604\n",
      "Precision: 0.2905\n",
      "Recall: 0.4604\n",
      "F1: 0.3491\n",
      "--------------------------------------------------\n"
     ]
    },
    {
     "name": "stderr",
     "output_type": "stream",
     "text": [
      "Epoch 2/100: 100%|██████████| 422/422 [01:31<00:00,  4.63it/s, loss=1.0835]\n"
     ]
    },
    {
     "name": "stdout",
     "output_type": "stream",
     "text": [
      "\n",
      "Training Metrics:\n",
      "--------------------------------------------------\n",
      "Epoch: 1\n",
      "Train Loss: 1.0554\n",
      "Validation Loss: 1.0336\n",
      "Accuracy: 0.4844\n",
      "Precision: 0.4533\n",
      "Recall: 0.4844\n",
      "F1: 0.4219\n",
      "--------------------------------------------------\n"
     ]
    },
    {
     "name": "stderr",
     "output_type": "stream",
     "text": [
      "Epoch 3/100: 100%|██████████| 422/422 [01:30<00:00,  4.65it/s, loss=1.0746]\n"
     ]
    },
    {
     "name": "stdout",
     "output_type": "stream",
     "text": [
      "\n",
      "Training Metrics:\n",
      "--------------------------------------------------\n",
      "Epoch: 2\n",
      "Train Loss: 1.0405\n",
      "Validation Loss: 1.0595\n",
      "Accuracy: 0.4173\n",
      "Precision: 0.4062\n",
      "Recall: 0.4173\n",
      "F1: 0.3881\n",
      "--------------------------------------------------\n"
     ]
    },
    {
     "name": "stderr",
     "output_type": "stream",
     "text": [
      "Epoch 4/100: 100%|██████████| 422/422 [01:30<00:00,  4.66it/s, loss=0.9705]\n"
     ]
    },
    {
     "name": "stdout",
     "output_type": "stream",
     "text": [
      "\n",
      "Training Metrics:\n",
      "--------------------------------------------------\n",
      "Epoch: 3\n",
      "Train Loss: 1.0210\n",
      "Validation Loss: 1.0337\n",
      "Accuracy: 0.4652\n",
      "Precision: 0.4731\n",
      "Recall: 0.4652\n",
      "F1: 0.4255\n",
      "--------------------------------------------------\n"
     ]
    },
    {
     "name": "stderr",
     "output_type": "stream",
     "text": [
      "Epoch 5/100: 100%|██████████| 422/422 [01:29<00:00,  4.71it/s, loss=1.1930]\n"
     ]
    },
    {
     "name": "stdout",
     "output_type": "stream",
     "text": [
      "\n",
      "Training Metrics:\n",
      "--------------------------------------------------\n",
      "Epoch: 4\n",
      "Train Loss: 1.0101\n",
      "Validation Loss: 1.0267\n",
      "Accuracy: 0.4772\n",
      "Precision: 0.4820\n",
      "Recall: 0.4772\n",
      "F1: 0.4247\n",
      "--------------------------------------------------\n"
     ]
    },
    {
     "name": "stderr",
     "output_type": "stream",
     "text": [
      "Epoch 6/100: 100%|██████████| 422/422 [01:29<00:00,  4.69it/s, loss=1.3487]\n"
     ]
    },
    {
     "name": "stdout",
     "output_type": "stream",
     "text": [
      "\n",
      "Training Metrics:\n",
      "--------------------------------------------------\n",
      "Epoch: 5\n",
      "Train Loss: 1.0023\n",
      "Validation Loss: 1.0708\n",
      "Accuracy: 0.4269\n",
      "Precision: 0.4305\n",
      "Recall: 0.4269\n",
      "F1: 0.4150\n",
      "--------------------------------------------------\n"
     ]
    },
    {
     "name": "stderr",
     "output_type": "stream",
     "text": [
      "Epoch 7/100: 100%|██████████| 422/422 [01:30<00:00,  4.68it/s, loss=0.5621]\n"
     ]
    },
    {
     "name": "stdout",
     "output_type": "stream",
     "text": [
      "\n",
      "Training Metrics:\n",
      "--------------------------------------------------\n",
      "Epoch: 6\n",
      "Train Loss: 0.9864\n",
      "Validation Loss: 1.0694\n",
      "Accuracy: 0.4029\n",
      "Precision: 0.4871\n",
      "Recall: 0.4029\n",
      "F1: 0.4143\n",
      "--------------------------------------------------\n"
     ]
    },
    {
     "name": "stderr",
     "output_type": "stream",
     "text": [
      "Epoch 8/100: 100%|██████████| 422/422 [01:29<00:00,  4.74it/s, loss=0.5659]\n"
     ]
    },
    {
     "name": "stdout",
     "output_type": "stream",
     "text": [
      "\n",
      "Training Metrics:\n",
      "--------------------------------------------------\n",
      "Epoch: 7\n",
      "Train Loss: 0.9637\n",
      "Validation Loss: 1.1458\n",
      "Accuracy: 0.3549\n",
      "Precision: 0.3534\n",
      "Recall: 0.3549\n",
      "F1: 0.3516\n",
      "--------------------------------------------------\n"
     ]
    },
    {
     "name": "stderr",
     "output_type": "stream",
     "text": [
      "Epoch 9/100: 100%|██████████| 422/422 [01:28<00:00,  4.76it/s, loss=1.0274]\n"
     ]
    },
    {
     "name": "stdout",
     "output_type": "stream",
     "text": [
      "\n",
      "Training Metrics:\n",
      "--------------------------------------------------\n",
      "Epoch: 8\n",
      "Train Loss: 0.9230\n",
      "Validation Loss: 1.1216\n",
      "Accuracy: 0.4125\n",
      "Precision: 0.4097\n",
      "Recall: 0.4125\n",
      "F1: 0.4013\n",
      "--------------------------------------------------\n"
     ]
    },
    {
     "name": "stderr",
     "output_type": "stream",
     "text": [
      "Epoch 10/100: 100%|██████████| 422/422 [01:30<00:00,  4.66it/s, loss=0.7870]\n"
     ]
    },
    {
     "name": "stdout",
     "output_type": "stream",
     "text": [
      "\n",
      "Training Metrics:\n",
      "--------------------------------------------------\n",
      "Epoch: 9\n",
      "Train Loss: 0.8909\n",
      "Validation Loss: 1.1377\n",
      "Accuracy: 0.4988\n",
      "Precision: 0.4800\n",
      "Recall: 0.4988\n",
      "F1: 0.4678\n",
      "--------------------------------------------------\n"
     ]
    },
    {
     "name": "stderr",
     "output_type": "stream",
     "text": [
      "Epoch 11/100: 100%|██████████| 422/422 [01:29<00:00,  4.70it/s, loss=0.5777]\n"
     ]
    },
    {
     "name": "stdout",
     "output_type": "stream",
     "text": [
      "\n",
      "Training Metrics:\n",
      "--------------------------------------------------\n",
      "Epoch: 10\n",
      "Train Loss: 0.8120\n",
      "Validation Loss: 1.1483\n",
      "Accuracy: 0.4484\n",
      "Precision: 0.4036\n",
      "Recall: 0.4484\n",
      "F1: 0.4049\n",
      "--------------------------------------------------\n"
     ]
    },
    {
     "name": "stderr",
     "output_type": "stream",
     "text": [
      "Epoch 12/100: 100%|██████████| 422/422 [01:29<00:00,  4.69it/s, loss=0.7313]\n"
     ]
    },
    {
     "name": "stdout",
     "output_type": "stream",
     "text": [
      "\n",
      "Training Metrics:\n",
      "--------------------------------------------------\n",
      "Epoch: 11\n",
      "Train Loss: 0.7660\n",
      "Validation Loss: 1.2126\n",
      "Accuracy: 0.4365\n",
      "Precision: 0.3976\n",
      "Recall: 0.4365\n",
      "F1: 0.4035\n",
      "--------------------------------------------------\n"
     ]
    },
    {
     "name": "stderr",
     "output_type": "stream",
     "text": [
      "Epoch 13/100: 100%|██████████| 422/422 [01:30<00:00,  4.68it/s, loss=0.5743]\n"
     ]
    },
    {
     "name": "stdout",
     "output_type": "stream",
     "text": [
      "\n",
      "Training Metrics:\n",
      "--------------------------------------------------\n",
      "Epoch: 12\n",
      "Train Loss: 0.7461\n",
      "Validation Loss: 1.2032\n",
      "Accuracy: 0.4341\n",
      "Precision: 0.4046\n",
      "Recall: 0.4341\n",
      "F1: 0.4051\n",
      "--------------------------------------------------\n"
     ]
    },
    {
     "name": "stderr",
     "output_type": "stream",
     "text": [
      "Epoch 14/100: 100%|██████████| 422/422 [01:28<00:00,  4.76it/s, loss=0.7792]\n"
     ]
    },
    {
     "name": "stdout",
     "output_type": "stream",
     "text": [
      "\n",
      "Training Metrics:\n",
      "--------------------------------------------------\n",
      "Epoch: 13\n",
      "Train Loss: 0.7318\n",
      "Validation Loss: 1.2195\n",
      "Accuracy: 0.4532\n",
      "Precision: 0.4233\n",
      "Recall: 0.4532\n",
      "F1: 0.4260\n",
      "--------------------------------------------------\n"
     ]
    },
    {
     "name": "stderr",
     "output_type": "stream",
     "text": [
      "Epoch 15/100: 100%|██████████| 422/422 [01:30<00:00,  4.67it/s, loss=1.3567]\n"
     ]
    },
    {
     "name": "stdout",
     "output_type": "stream",
     "text": [
      "\n",
      "Training Metrics:\n",
      "--------------------------------------------------\n",
      "Epoch: 14\n",
      "Train Loss: 0.7158\n",
      "Validation Loss: 1.2857\n",
      "Accuracy: 0.4628\n",
      "Precision: 0.4241\n",
      "Recall: 0.4628\n",
      "F1: 0.4130\n",
      "--------------------------------------------------\n"
     ]
    },
    {
     "name": "stderr",
     "output_type": "stream",
     "text": [
      "Epoch 16/100:  66%|██████▌   | 278/422 [00:58<00:28,  4.98it/s, loss=0.5642]"
     ]
    }
   ],
   "source": [
    "trainer.train()"
   ]
  }
 ],
 "metadata": {
  "kernelspec": {
   "display_name": "Python 3 (ipykernel)",
   "language": "python",
   "name": "python3"
  },
  "language_info": {
   "codemirror_mode": {
    "name": "ipython",
    "version": 3
   },
   "file_extension": ".py",
   "mimetype": "text/x-python",
   "name": "python",
   "nbconvert_exporter": "python",
   "pygments_lexer": "ipython3",
   "version": "3.10.12"
  }
 },
 "nbformat": 4,
 "nbformat_minor": 5
}
