{
 "cells": [
  {
   "cell_type": "markdown",
   "id": "00ec430f-69b4-4b4d-babd-a65fb9fbac39",
   "metadata": {
    "scrolled": true
   },
   "source": [
    "!pip install gdown nltk numpy pandas yacs torch torchvision pillow scikit-learn tokenizers transformers -q"
   ]
  },
  {
   "cell_type": "code",
   "execution_count": 4,
   "id": "add7194e-9686-4b02-9b1f-8a58977085f0",
   "metadata": {},
   "outputs": [
    {
     "name": "stderr",
     "output_type": "stream",
     "text": [
      "Downloading...\n",
      "From (original): https://drive.google.com/uc?id=17WozXiXfq44Z6kkWsPPDHRzqIH2daUaQ\n",
      "From (redirected): https://drive.google.com/uc?id=17WozXiXfq44Z6kkWsPPDHRzqIH2daUaQ&confirm=t&uuid=5ea41556-69f7-4016-9822-7452c15e16b6\n",
      "To: /workspace/file.zip\n",
      "100%|██████████| 3.43G/3.43G [01:07<00:00, 50.7MB/s]\n"
     ]
    },
    {
     "data": {
      "text/plain": [
       "'file.zip'"
      ]
     },
     "execution_count": 4,
     "metadata": {},
     "output_type": "execute_result"
    }
   ],
   "source": [
    "import gdown\n",
    "file_id = \"17WozXiXfq44Z6kkWsPPDHRzqIH2daUaQ\"\n",
    "url = f\"https://drive.google.com/uc?id={file_id}\"\n",
    "output = \"file.zip\"\n",
    "\n",
    "gdown.download(url, output, quiet=False)"
   ]
  },
  {
   "cell_type": "code",
   "execution_count": 7,
   "id": "d498d021-86ad-4144-a3d4-51fafbd7ffd6",
   "metadata": {},
   "outputs": [],
   "source": [
    "# !apt update\n",
    "# !apt install unzip\n",
    "# !unzip file.zip -d /Images"
   ]
  },
  {
   "cell_type": "code",
   "execution_count": 1,
   "id": "16bc997a-65cd-494c-bbbe-b6c6d818ed53",
   "metadata": {},
   "outputs": [],
   "source": [
    "from dataset import load_dataset, collate_fn\n",
    "from model import Final \n",
    "from trainer import Trainer\n",
    "from torch.utils.data import DataLoader\n",
    "from configs import cfg"
   ]
  },
  {
   "cell_type": "code",
   "execution_count": 2,
   "id": "3b767a3c-a42b-4d76-a32e-93a24b065255",
   "metadata": {},
   "outputs": [],
   "source": [
    "train_dataset = load_dataset(cfg, 'train')\n",
    "test_dataset = load_dataset(cfg, 'test')\n",
    "val_dataset = load_dataset(cfg, 'val')\n",
    "\n",
    "train_dataloader = DataLoader(train_dataset, batch_size=cfg.batch_size, shuffle=True, collate_fn=collate_fn)\n",
    "test_dataloader = DataLoader(test_dataset, batch_size=cfg.batch_size, shuffle=False, collate_fn=collate_fn)\n",
    "val_dataloader = DataLoader(val_dataset, batch_size=cfg.batch_size, shuffle=False, collate_fn=collate_fn)\n",
    "\n",
    "model = Final()\n",
    "trainer = Trainer(model, train_dataloader, val_dataloader, test_dataloader)"
   ]
  },
  {
   "cell_type": "code",
   "execution_count": null,
   "id": "29f42ce3-dcc7-43ec-9d92-08387afb6af1",
   "metadata": {},
   "outputs": [
    {
     "name": "stderr",
     "output_type": "stream",
     "text": [
      "Epoch 1/100:   9%|▉         | 25/271 [02:09<20:04,  4.90s/it, loss=1.1485]"
     ]
    }
   ],
   "source": [
    "trainer.train()"
   ]
  }
 ],
 "metadata": {
  "kernelspec": {
   "display_name": "Python 3 (ipykernel)",
   "language": "python",
   "name": "python3"
  },
  "language_info": {
   "codemirror_mode": {
    "name": "ipython",
    "version": 3
   },
   "file_extension": ".py",
   "mimetype": "text/x-python",
   "name": "python",
   "nbconvert_exporter": "python",
   "pygments_lexer": "ipython3",
   "version": "3.10.12"
  }
 },
 "nbformat": 4,
 "nbformat_minor": 5
}
