{
 "cells": [
  {
   "cell_type": "markdown",
   "id": "00ec430f-69b4-4b4d-babd-a65fb9fbac39",
   "metadata": {
    "scrolled": true
   },
   "source": [
    "!pip install gdown nltk numpy pandas yacs torch torchvision pillow scikit-learn tokenizers transformers -q"
   ]
  },
  {
   "cell_type": "code",
   "execution_count": 4,
   "id": "add7194e-9686-4b02-9b1f-8a58977085f0",
   "metadata": {},
   "outputs": [
    {
     "name": "stderr",
     "output_type": "stream",
     "text": [
      "Downloading...\n",
      "From (original): https://drive.google.com/uc?id=17WozXiXfq44Z6kkWsPPDHRzqIH2daUaQ\n",
      "From (redirected): https://drive.google.com/uc?id=17WozXiXfq44Z6kkWsPPDHRzqIH2daUaQ&confirm=t&uuid=5ea41556-69f7-4016-9822-7452c15e16b6\n",
      "To: /workspace/file.zip\n",
      "100%|██████████| 3.43G/3.43G [01:07<00:00, 50.7MB/s]\n"
     ]
    },
    {
     "data": {
      "text/plain": [
       "'file.zip'"
      ]
     },
     "execution_count": 4,
     "metadata": {},
     "output_type": "execute_result"
    }
   ],
   "source": [
    "import gdown\n",
    "file_id = \"17WozXiXfq44Z6kkWsPPDHRzqIH2daUaQ\"\n",
    "url = f\"https://drive.google.com/uc?id={file_id}\"\n",
    "output = \"file.zip\"\n",
    "\n",
    "gdown.download(url, output, quiet=False)"
   ]
  },
  {
   "cell_type": "code",
   "execution_count": 7,
   "id": "d498d021-86ad-4144-a3d4-51fafbd7ffd6",
   "metadata": {},
   "outputs": [],
   "source": [
    "# !apt update\n",
    "# !apt install unzip\n",
    "# !unzip file.zip -d /Images"
   ]
  },
  {
   "cell_type": "code",
   "execution_count": 1,
   "id": "d982ed63",
   "metadata": {},
   "outputs": [
    {
     "name": "stderr",
     "output_type": "stream",
     "text": [
      "c:\\Users\\omkar\\Desktop\\fakenews\\.venv\\Lib\\site-packages\\tqdm\\auto.py:21: TqdmWarning: IProgress not found. Please update jupyter and ipywidgets. See https://ipywidgets.readthedocs.io/en/stable/user_install.html\n",
      "  from .autonotebook import tqdm as notebook_tqdm\n"
     ]
    }
   ],
   "source": [
    "from model import Final\n",
    "final = Final()"
   ]
  },
  {
   "cell_type": "code",
   "execution_count": 2,
   "id": "d3294d63",
   "metadata": {},
   "outputs": [
    {
     "data": {
      "text/plain": [
       "===============================================================================================\n",
       "Layer (type:depth-idx)                                                 Param #\n",
       "===============================================================================================\n",
       "Final                                                                  --\n",
       "├─HCAN: 1-1                                                            --\n",
       "│    └─WordHierarchy: 2-1                                              --\n",
       "│    │    └─ModuleList: 3-1                                            24,809,472\n",
       "│    │    └─Linear: 3-2                                                3,539,712\n",
       "│    │    └─LayerNorm: 3-3                                             1,536\n",
       "│    └─SentenceHierarchy: 2-2                                          --\n",
       "│    │    └─ModuleList: 3-4                                            24,809,472\n",
       "│    │    └─MultiheadAttention: 3-5                                    2,362,368\n",
       "│    │    └─LayerNorm: 3-6                                             1,536\n",
       "│    │    └─MultiheadAttention: 3-7                                    2,362,368\n",
       "│    │    └─Sequential: 3-8                                            1,181,184\n",
       "├─BiGRU: 1-2                                                           --\n",
       "│    └─GRU: 2-3                                                        703,200\n",
       "│    └─Linear: 2-4                                                     20,100\n",
       "├─BiGRU: 1-3                                                           --\n",
       "│    └─GRU: 2-5                                                        302,400\n",
       "│    └─Linear: 2-6                                                     20,100\n",
       "├─Inception_ResNetv2: 1-4                                              --\n",
       "│    └─Sequential: 2-7                                                 --\n",
       "│    │    └─Stem: 3-9                                                  440,992\n",
       "│    │    └─Inception_ResNet_A: 3-10                                   123,168\n",
       "│    │    └─Inception_ResNet_A: 3-11                                   123,168\n",
       "│    │    └─Inception_ResNet_A: 3-12                                   123,168\n",
       "│    │    └─Inception_ResNet_A: 3-13                                   123,168\n",
       "│    │    └─Inception_ResNet_A: 3-14                                   123,168\n",
       "│    │    └─Inception_ResNet_A: 3-15                                   123,168\n",
       "│    │    └─Inception_ResNet_A: 3-16                                   123,168\n",
       "│    │    └─Inception_ResNet_A: 3-17                                   123,168\n",
       "│    │    └─Inception_ResNet_A: 3-18                                   123,168\n",
       "│    │    └─Inception_ResNet_A: 3-19                                   123,168\n",
       "│    │    └─Reduction_A: 3-20                                          2,664,960\n",
       "│    │    └─Inception_ResNet_B: 3-21                                   1,126,784\n",
       "│    │    └─Inception_ResNet_B: 3-22                                   1,126,784\n",
       "│    │    └─Inception_ResNet_B: 3-23                                   1,126,784\n",
       "│    │    └─Inception_ResNet_B: 3-24                                   1,126,784\n",
       "│    │    └─Inception_ResNet_B: 3-25                                   1,126,784\n",
       "│    │    └─Inception_ResNet_B: 3-26                                   1,126,784\n",
       "│    │    └─Inception_ResNet_B: 3-27                                   1,126,784\n",
       "│    │    └─Inception_ResNet_B: 3-28                                   1,126,784\n",
       "│    │    └─Inception_ResNet_B: 3-29                                   1,126,784\n",
       "│    │    └─Inception_ResNet_B: 3-30                                   1,126,784\n",
       "│    │    └─Inception_ResNet_B: 3-31                                   1,126,784\n",
       "│    │    └─Inception_ResNet_B: 3-32                                   1,126,784\n",
       "│    │    └─Inception_ResNet_B: 3-33                                   1,126,784\n",
       "│    │    └─Inception_ResNet_B: 3-34                                   1,126,784\n",
       "│    │    └─Inception_ResNet_B: 3-35                                   1,126,784\n",
       "│    │    └─Inception_ResNet_B: 3-36                                   1,126,784\n",
       "│    │    └─Inception_ResNet_B: 3-37                                   1,126,784\n",
       "│    │    └─Inception_ResNet_B: 3-38                                   1,126,784\n",
       "│    │    └─Inception_ResNet_B: 3-39                                   1,126,784\n",
       "│    │    └─Inception_ResNet_B: 3-40                                   1,126,784\n",
       "│    │    └─Reduciton_B: 3-41                                          3,880,960\n",
       "│    │    └─Inception_ResNet_C: 3-42                                   2,035,424\n",
       "│    │    └─Inception_ResNet_C: 3-43                                   2,035,424\n",
       "│    │    └─Inception_ResNet_C: 3-44                                   2,035,424\n",
       "│    │    └─Inception_ResNet_C: 3-45                                   2,035,424\n",
       "│    │    └─Inception_ResNet_C: 3-46                                   2,035,424\n",
       "│    │    └─Inception_ResNet_C: 3-47                                   2,035,424\n",
       "│    │    └─Inception_ResNet_C: 3-48                                   2,035,424\n",
       "│    │    └─Inception_ResNet_C: 3-49                                   2,035,424\n",
       "│    │    └─Inception_ResNet_C: 3-50                                   2,035,424\n",
       "│    │    └─Inception_ResNet_C: 3-51                                   2,035,424\n",
       "│    └─Conv2d: 2-8                                                     --\n",
       "│    │    └─Conv2d: 3-52                                               3,194,880\n",
       "│    │    └─BatchNorm2d: 3-53                                          3,072\n",
       "│    │    └─ReLU: 3-54                                                 --\n",
       "│    └─AdaptiveAvgPool2d: 2-9                                          --\n",
       "│    └─Linear: 2-10                                                    1,537,000\n",
       "├─KnowledgeExtractor: 1-5                                              --\n",
       "│    └─Module: 2-11                                                    --\n",
       "│    │    └─BertModel: 3-55                                            109,482,240\n",
       "│    │    └─Dropout: 3-56                                              --\n",
       "│    └─OpinionConvolutionNetwork: 2-12                                 --\n",
       "│    │    └─ModuleList: 3-57                                           2,074,500\n",
       "│    │    └─Dropout: 3-58                                              --\n",
       "│    │    └─ModuleList: 3-59                                           903\n",
       "├─MLP: 1-6                                                             --\n",
       "│    └─Linear: 2-13                                                    202,950\n",
       "│    └─Linear: 2-14                                                    202,950\n",
       "│    └─Linear: 2-15                                                    1,353\n",
       "│    └─ReLU: 2-16                                                      --\n",
       "│    └─Dropout: 2-17                                                   --\n",
       "├─Linear: 1-7                                                          1,800\n",
       "├─Linear: 1-8                                                          450,450\n",
       "===============================================================================================\n",
       "Total params: 228,374,058\n",
       "Trainable params: 228,374,058\n",
       "Non-trainable params: 0\n",
       "==============================================================================================="
      ]
     },
     "execution_count": 2,
     "metadata": {},
     "output_type": "execute_result"
    }
   ],
   "source": [
    "from torchinfo import summary\n",
    "summary(final)"
   ]
  },
  {
   "cell_type": "code",
   "execution_count": 1,
   "id": "16bc997a-65cd-494c-bbbe-b6c6d818ed53",
   "metadata": {},
   "outputs": [],
   "source": [
    "from dataset import load_dataset, collate_fn\n",
    "from model import Final \n",
    "from trainer import Trainer\n",
    "from torch.utils.data import DataLoader\n",
    "from configs import cfg"
   ]
  },
  {
   "cell_type": "code",
   "execution_count": 2,
   "id": "3b767a3c-a42b-4d76-a32e-93a24b065255",
   "metadata": {},
   "outputs": [],
   "source": [
    "train_dataset = load_dataset(cfg, 'train')\n",
    "test_dataset = load_dataset(cfg, 'test')\n",
    "val_dataset = load_dataset(cfg, 'val')\n",
    "\n",
    "train_dataloader = DataLoader(train_dataset, batch_size=cfg.batch_size, shuffle=True, collate_fn=collate_fn)\n",
    "test_dataloader = DataLoader(test_dataset, batch_size=cfg.batch_size, shuffle=False, collate_fn=collate_fn)\n",
    "val_dataloader = DataLoader(val_dataset, batch_size=cfg.batch_size, shuffle=False, collate_fn=collate_fn)\n",
    "\n",
    "model = Final()\n",
    "trainer = Trainer(model, train_dataloader, val_dataloader, test_dataloader)"
   ]
  },
  {
   "cell_type": "code",
   "execution_count": null,
   "id": "29f42ce3-dcc7-43ec-9d92-08387afb6af1",
   "metadata": {},
   "outputs": [
    {
     "name": "stderr",
     "output_type": "stream",
     "text": [
      "Epoch 1/100:   9%|▉         | 25/271 [02:09<20:04,  4.90s/it, loss=1.1485]"
     ]
    }
   ],
   "source": [
    "trainer.train()"
   ]
  }
 ],
 "metadata": {
  "kernelspec": {
   "display_name": ".venv",
   "language": "python",
   "name": "python3"
  },
  "language_info": {
   "codemirror_mode": {
    "name": "ipython",
    "version": 3
   },
   "file_extension": ".py",
   "mimetype": "text/x-python",
   "name": "python",
   "nbconvert_exporter": "python",
   "pygments_lexer": "ipython3",
   "version": "3.11.9"
  }
 },
 "nbformat": 4,
 "nbformat_minor": 5
}
